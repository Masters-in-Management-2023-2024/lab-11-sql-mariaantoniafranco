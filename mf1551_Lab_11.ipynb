{
  "cells": [
    {
      "cell_type": "markdown",
      "metadata": {
        "id": "qeFwLbvqPZCs"
      },
      "source": [
        "# Lab Exercise: SQL Analysis with Polars\n",
        "\n",
        "In this lab, you'll practice SQL queries using Polars' built-in SQL functionality. Complete each exercise by writing the appropriate SQL query."
      ]
    },
    {
      "cell_type": "code",
      "execution_count": 5,
      "metadata": {
        "colab": {
          "base_uri": "https://localhost:8080/"
        },
        "id": "4AA0EznrPZCv",
        "outputId": "04b9c1c2-e2ef-4157-f482-cbbc3bf1c880"
      },
      "outputs": [
        {
          "output_type": "stream",
          "name": "stdout",
          "text": [
            "Setup complete! Tables available:\n",
            "shape: (5, 1)\n",
            "┌──────────┐\n",
            "│ name     │\n",
            "│ ---      │\n",
            "│ str      │\n",
            "╞══════════╡\n",
            "│ airlines │\n",
            "│ airports │\n",
            "│ flights  │\n",
            "│ planes   │\n",
            "│ weather  │\n",
            "└──────────┘\n"
          ]
        },
        {
          "output_type": "stream",
          "name": "stderr",
          "text": [
            "/tmp/ipython-input-2686001024.py:16: DeprecationWarning: The argument `eager_execution` for `SQLContext.__init__` is deprecated. It has been renamed to `eager`.\n",
            "  ctx = pl.SQLContext(\n"
          ]
        }
      ],
      "source": [
        "# Setup - Run this cell first\n",
        "import polars as pl\n",
        "\n",
        "# Load data\n",
        "airlines = pl.read_csv('https://raw.githubusercontent.com/philhetzel/opan5510-class11/refs/heads/main/data/nyc_airlines.csv')\n",
        "airports = pl.read_csv('https://raw.githubusercontent.com/philhetzel/opan5510-class11/refs/heads/main/data/nyc_airports.csv')\n",
        "flights = pl.read_csv('https://raw.githubusercontent.com/philhetzel/opan5510-class11/refs/heads/main/data/nyc_flights.csv', null_values='NA')\n",
        "planes = pl.read_csv('https://raw.githubusercontent.com/philhetzel/opan5510-class11/refs/heads/main/data/nyc_planes.csv', null_values='NA')\n",
        "weather = pl.read_csv('https://raw.githubusercontent.com/philhetzel/opan5510-class11/refs/heads/main/data/nyc_weather.csv', null_values='NA', ignore_errors=True, schema={'origin': pl.Utf8, 'year': pl.Int64, 'month': pl.Int64, 'day': pl.Int64, 'hour': pl.Int64, 'temp': pl.Float64, 'dewp': pl.Float64, 'humid': pl.Float64, 'wind_dir': pl.Int64, 'wind_speed': pl.Float64, 'wind_gust': pl.Float64, 'precip': pl.Float64, 'pressure': pl.Float64, 'visib': pl.Int64, 'time_hour': pl.Utf8})\n",
        "\n",
        "\n",
        "flights = flights.with_columns(pl.col(\"time_hour\").str.strptime(pl.Datetime))\n",
        "weather = weather.with_columns(pl.col(\"time_hour\").str.strptime(pl.Datetime))\n",
        "\n",
        "# Create SQL context\n",
        "ctx = pl.SQLContext(\n",
        "    airlines=airlines,\n",
        "    airports=airports,\n",
        "    flights=flights,\n",
        "    planes=planes,\n",
        "    weather=weather,\n",
        "    eager_execution=True\n",
        ")\n",
        "\n",
        "print(\"Setup complete! Tables available:\")\n",
        "print(ctx.execute(\"SHOW TABLES\"))"
      ]
    },
    {
      "cell_type": "markdown",
      "metadata": {
        "id": "TcHgqK-OPZCw"
      },
      "source": [
        "## Exercise 1: Basic Queries\n",
        "\n",
        "### 1.1 Find all unique carriers in the airlines table"
      ]
    },
    {
      "cell_type": "code",
      "execution_count": 18,
      "metadata": {
        "colab": {
          "base_uri": "https://localhost:8080/"
        },
        "id": "Tuf2eU2TPZCw",
        "outputId": "a9e7ee74-30af-4913-a437-1fc3cae3316e"
      },
      "outputs": [
        {
          "output_type": "stream",
          "name": "stdout",
          "text": [
            "shape: (16, 1)\n",
            "┌─────────┐\n",
            "│ carrier │\n",
            "│ ---     │\n",
            "│ str     │\n",
            "╞═════════╡\n",
            "│ 9E      │\n",
            "│ AA      │\n",
            "│ AS      │\n",
            "│ B6      │\n",
            "│ DL      │\n",
            "│ …       │\n",
            "│ UA      │\n",
            "│ US      │\n",
            "│ VX      │\n",
            "│ WN      │\n",
            "│ YV      │\n",
            "└─────────┘\n"
          ]
        }
      ],
      "source": [
        "# Write your SQL query here\n",
        "\n",
        "unique_carriers = ctx.execute(\"\"\"\n",
        "SELECT DISTINCT carrier\n",
        "FROM airlines\n",
        "\"\"\")\n",
        "\n",
        "print(unique_carriers)"
      ]
    },
    {
      "cell_type": "markdown",
      "metadata": {
        "id": "Mf1gFPwBPZCx"
      },
      "source": [
        "### 1.2 Find the top 10 destinations by number of flights\n",
        "\n"
      ]
    },
    {
      "cell_type": "code",
      "execution_count": 19,
      "metadata": {
        "colab": {
          "base_uri": "https://localhost:8080/"
        },
        "id": "gv0kVWATPZCx",
        "outputId": "c8186479-f3e1-49c8-a79e-c20023be411f"
      },
      "outputs": [
        {
          "output_type": "stream",
          "name": "stdout",
          "text": [
            "shape: (10, 2)\n",
            "┌──────┬─────────────┐\n",
            "│ dest ┆ num_flights │\n",
            "│ ---  ┆ ---         │\n",
            "│ str  ┆ u32         │\n",
            "╞══════╪═════════════╡\n",
            "│ ORD  ┆ 17283       │\n",
            "│ ATL  ┆ 17215       │\n",
            "│ LAX  ┆ 16174       │\n",
            "│ BOS  ┆ 15508       │\n",
            "│ MCO  ┆ 14082       │\n",
            "│ CLT  ┆ 14064       │\n",
            "│ SFO  ┆ 13331       │\n",
            "│ FLL  ┆ 12055       │\n",
            "│ MIA  ┆ 11728       │\n",
            "│ DCA  ┆ 9705        │\n",
            "└──────┴─────────────┘\n"
          ]
        }
      ],
      "source": [
        "# Write your SQL query here\n",
        "\n",
        "top_destinations = ctx.execute(\"\"\"\n",
        "SELECT dest, COUNT(*) AS num_flights\n",
        "FROM flights\n",
        "GROUP BY dest\n",
        "ORDER BY num_flights DESC\n",
        "LIMIT 10\n",
        "\"\"\")\n",
        "\n",
        "print(top_destinations)"
      ]
    },
    {
      "cell_type": "markdown",
      "metadata": {
        "id": "MupM_z-oPZCx"
      },
      "source": [
        "### 1.3 Find all flights that departed more than 2 hours late (120 minutes)"
      ]
    },
    {
      "cell_type": "code",
      "execution_count": 20,
      "metadata": {
        "colab": {
          "base_uri": "https://localhost:8080/"
        },
        "id": "wRReRn7bPZCx",
        "outputId": "2722af04-9535-4457-a3c6-7a05b2844c92"
      },
      "outputs": [
        {
          "output_type": "stream",
          "name": "stdout",
          "text": [
            "shape: (9_723, 19)\n",
            "┌──────┬───────┬─────┬──────────┬───┬──────────┬──────┬────────┬─────────────────────────┐\n",
            "│ year ┆ month ┆ day ┆ dep_time ┆ … ┆ distance ┆ hour ┆ minute ┆ time_hour               │\n",
            "│ ---  ┆ ---   ┆ --- ┆ ---      ┆   ┆ ---      ┆ ---  ┆ ---    ┆ ---                     │\n",
            "│ i64  ┆ i64   ┆ i64 ┆ i64      ┆   ┆ i64      ┆ i64  ┆ i64    ┆ datetime[μs, UTC]       │\n",
            "╞══════╪═══════╪═════╪══════════╪═══╪══════════╪══════╪════════╪═════════════════════════╡\n",
            "│ 2013 ┆ 1     ┆ 1   ┆ 848      ┆ … ┆ 184      ┆ 18   ┆ 35     ┆ 2013-01-01 23:00:00 UTC │\n",
            "│ 2013 ┆ 1     ┆ 1   ┆ 957      ┆ … ┆ 200      ┆ 7    ┆ 33     ┆ 2013-01-01 12:00:00 UTC │\n",
            "│ 2013 ┆ 1     ┆ 1   ┆ 1114     ┆ … ┆ 1416     ┆ 9    ┆ 0      ┆ 2013-01-01 14:00:00 UTC │\n",
            "│ 2013 ┆ 1     ┆ 1   ┆ 1540     ┆ … ┆ 1598     ┆ 13   ┆ 38     ┆ 2013-01-01 18:00:00 UTC │\n",
            "│ 2013 ┆ 1     ┆ 1   ┆ 1815     ┆ … ┆ 1134     ┆ 13   ┆ 25     ┆ 2013-01-01 18:00:00 UTC │\n",
            "│ …    ┆ …     ┆ …   ┆ …        ┆ … ┆ …        ┆ …    ┆ …      ┆ …                       │\n",
            "│ 2013 ┆ 9     ┆ 30  ┆ 1823     ┆ … ┆ 765      ┆ 15   ┆ 45     ┆ 2013-09-30 19:00:00 UTC │\n",
            "│ 2013 ┆ 9     ┆ 30  ┆ 1951     ┆ … ┆ 708      ┆ 16   ┆ 49     ┆ 2013-09-30 20:00:00 UTC │\n",
            "│ 2013 ┆ 9     ┆ 30  ┆ 2053     ┆ … ┆ 746      ┆ 18   ┆ 15     ┆ 2013-09-30 22:00:00 UTC │\n",
            "│ 2013 ┆ 9     ┆ 30  ┆ 2159     ┆ … ┆ 301      ┆ 18   ┆ 45     ┆ 2013-09-30 22:00:00 UTC │\n",
            "│ 2013 ┆ 9     ┆ 30  ┆ 2235     ┆ … ┆ 944      ┆ 20   ┆ 1      ┆ 2013-10-01 00:00:00 UTC │\n",
            "└──────┴───────┴─────┴──────────┴───┴──────────┴──────┴────────┴─────────────────────────┘\n"
          ]
        }
      ],
      "source": [
        "# Write your SQL query here\n",
        "\n",
        "late_flights = ctx.execute(\"\"\"\n",
        "SELECT *\n",
        "FROM flights\n",
        "WHERE dep_delay > 120\n",
        "\"\"\")\n",
        "\n",
        "print(late_flights)"
      ]
    },
    {
      "cell_type": "markdown",
      "metadata": {
        "id": "QG6wuWg3PZCy"
      },
      "source": [
        "## Exercise 2: Aggregation\n",
        "\n",
        "### 2.1 Calculate the average departure delay for each origin airport"
      ]
    },
    {
      "cell_type": "code",
      "execution_count": 21,
      "metadata": {
        "colab": {
          "base_uri": "https://localhost:8080/"
        },
        "id": "OGf5YmAuPZCy",
        "outputId": "796767e7-4c72-4321-807c-43fa85dfac43"
      },
      "outputs": [
        {
          "output_type": "stream",
          "name": "stdout",
          "text": [
            "shape: (3, 2)\n",
            "┌────────┬───────────────┐\n",
            "│ origin ┆ avg_dep_delay │\n",
            "│ ---    ┆ ---           │\n",
            "│ str    ┆ f64           │\n",
            "╞════════╪═══════════════╡\n",
            "│ LGA    ┆ 10.346876     │\n",
            "│ JFK    ┆ 12.112159     │\n",
            "│ EWR    ┆ 15.107954     │\n",
            "└────────┴───────────────┘\n"
          ]
        }
      ],
      "source": [
        "# Write your SQL query here\n",
        "avg_dep_delay = ctx.execute(\"\"\"\n",
        "SELECT origin, AVG(dep_delay) AS avg_dep_delay\n",
        "FROM flights\n",
        "GROUP BY origin\n",
        "\"\"\")\n",
        "\n",
        "print(avg_dep_delay)"
      ]
    },
    {
      "cell_type": "markdown",
      "metadata": {
        "id": "zIICIAsCPZCy"
      },
      "source": [
        "### 2.2 Find the busiest month of the year\n",
        "\n",
        "Count the number of flights per month and find which month has the most flights."
      ]
    },
    {
      "cell_type": "code",
      "execution_count": 22,
      "metadata": {
        "colab": {
          "base_uri": "https://localhost:8080/"
        },
        "id": "Lxn2TciHPZCy",
        "outputId": "ab691a76-b4fa-4b92-ecb4-37c526f2b29b"
      },
      "outputs": [
        {
          "output_type": "stream",
          "name": "stdout",
          "text": [
            "shape: (5, 19)\n",
            "┌──────┬───────┬─────┬──────────┬───┬──────────┬──────┬────────┬─────────────────────────┐\n",
            "│ year ┆ month ┆ day ┆ dep_time ┆ … ┆ distance ┆ hour ┆ minute ┆ time_hour               │\n",
            "│ ---  ┆ ---   ┆ --- ┆ ---      ┆   ┆ ---      ┆ ---  ┆ ---    ┆ ---                     │\n",
            "│ i64  ┆ i64   ┆ i64 ┆ i64      ┆   ┆ i64      ┆ i64  ┆ i64    ┆ datetime[μs, UTC]       │\n",
            "╞══════╪═══════╪═════╪══════════╪═══╪══════════╪══════╪════════╪═════════════════════════╡\n",
            "│ 2013 ┆ 1     ┆ 1   ┆ 517      ┆ … ┆ 1400     ┆ 5    ┆ 15     ┆ 2013-01-01 10:00:00 UTC │\n",
            "│ 2013 ┆ 1     ┆ 1   ┆ 533      ┆ … ┆ 1416     ┆ 5    ┆ 29     ┆ 2013-01-01 10:00:00 UTC │\n",
            "│ 2013 ┆ 1     ┆ 1   ┆ 542      ┆ … ┆ 1089     ┆ 5    ┆ 40     ┆ 2013-01-01 10:00:00 UTC │\n",
            "│ 2013 ┆ 1     ┆ 1   ┆ 544      ┆ … ┆ 1576     ┆ 5    ┆ 45     ┆ 2013-01-01 10:00:00 UTC │\n",
            "│ 2013 ┆ 1     ┆ 1   ┆ 554      ┆ … ┆ 762      ┆ 6    ┆ 0      ┆ 2013-01-01 11:00:00 UTC │\n",
            "└──────┴───────┴─────┴──────────┴───┴──────────┴──────┴────────┴─────────────────────────┘\n",
            "shape: (1, 2)\n",
            "┌───────┬─────────────┐\n",
            "│ month ┆ num_flights │\n",
            "│ ---   ┆ ---         │\n",
            "│ i64   ┆ u32         │\n",
            "╞═══════╪═════════════╡\n",
            "│ 7     ┆ 29425       │\n",
            "└───────┴─────────────┘\n"
          ]
        }
      ],
      "source": [
        "# First, let's check what columns are available\n",
        "result = ctx.execute(\"\"\"\n",
        "    SELECT *\n",
        "    FROM flights\n",
        "    LIMIT 5\n",
        "\"\"\")\n",
        "print(result)\n",
        "\n",
        "# Now write your query to find busiest month\n",
        "result = ctx.execute(\"\"\"\n",
        "    SELECT month, COUNT(*) AS num_flights\n",
        "    FROM flights\n",
        "    GROUP BY month\n",
        "    ORDER BY num_flights DESC\n",
        "    LIMIT 1\n",
        "\"\"\")\n",
        "print(result)"
      ]
    },
    {
      "cell_type": "markdown",
      "metadata": {
        "id": "Hr1HCjZRPZCz"
      },
      "source": [
        "### 2.3 Calculate the on-time performance rate for each carrier\n",
        "\n",
        "Consider a flight on-time if the departure delay is <= 15 minutes."
      ]
    },
    {
      "cell_type": "code",
      "execution_count": 23,
      "metadata": {
        "colab": {
          "base_uri": "https://localhost:8080/"
        },
        "id": "2u69JrrLPZCz",
        "outputId": "4248a240-aa4b-4e53-ce78-469c5106022e"
      },
      "outputs": [
        {
          "output_type": "stream",
          "name": "stdout",
          "text": [
            "shape: (16, 2)\n",
            "┌─────────┬──────────────┐\n",
            "│ carrier ┆ on_time_rate │\n",
            "│ ---     ┆ ---          │\n",
            "│ str     ┆ f64          │\n",
            "╞═════════╪══════════════╡\n",
            "│ HA      ┆ 0.929825     │\n",
            "│ AS      ┆ 0.865546     │\n",
            "│ US      ┆ 0.849873     │\n",
            "│ DL      ┆ 0.830742     │\n",
            "│ AA      ┆ 0.824376     │\n",
            "│ …       ┆ …            │\n",
            "│ FL      ┆ 0.716871     │\n",
            "│ F9      ┆ 0.715328     │\n",
            "│ 9E      ┆ 0.701246     │\n",
            "│ EV      ┆ 0.659221     │\n",
            "│ YV      ┆ 0.647255     │\n",
            "└─────────┴──────────────┘\n"
          ]
        }
      ],
      "source": [
        "# Write your SQL query here\n",
        "result = ctx.execute(\"\"\"\n",
        "    SELECT\n",
        "        carrier,\n",
        "        SUM(CASE WHEN dep_delay <= 15 THEN 1 ELSE 0 END) * 1.0 / COUNT(*) AS on_time_rate\n",
        "    FROM flights\n",
        "    GROUP BY carrier\n",
        "    ORDER BY on_time_rate DESC\n",
        "\"\"\")\n",
        "\n",
        "print(result)"
      ]
    },
    {
      "cell_type": "markdown",
      "metadata": {
        "id": "QvcQDXkUPZCz"
      },
      "source": [
        "## Exercise 3: Joins\n",
        "\n",
        "### 3.1 List all flights with their airline names (not just carrier codes)\n",
        "\n",
        "Show the first 20 flights with carrier code, airline name, flight number, origin, and destination."
      ]
    },
    {
      "cell_type": "code",
      "execution_count": 25,
      "metadata": {
        "colab": {
          "base_uri": "https://localhost:8080/"
        },
        "id": "sjkSEvp_PZCz",
        "outputId": "cc7d5f26-686e-409b-fe06-6b332f33f6c7"
      },
      "outputs": [
        {
          "output_type": "stream",
          "name": "stdout",
          "text": [
            "shape: (20, 5)\n",
            "┌─────────┬────────────────────────┬────────┬────────┬──────┐\n",
            "│ carrier ┆ airline_name           ┆ flight ┆ origin ┆ dest │\n",
            "│ ---     ┆ ---                    ┆ ---    ┆ ---    ┆ ---  │\n",
            "│ str     ┆ str                    ┆ i64    ┆ str    ┆ str  │\n",
            "╞═════════╪════════════════════════╪════════╪════════╪══════╡\n",
            "│ UA      ┆ United Air Lines Inc.  ┆ 1545   ┆ EWR    ┆ IAH  │\n",
            "│ UA      ┆ United Air Lines Inc.  ┆ 1714   ┆ LGA    ┆ IAH  │\n",
            "│ AA      ┆ American Airlines Inc. ┆ 1141   ┆ JFK    ┆ MIA  │\n",
            "│ B6      ┆ JetBlue Airways        ┆ 725    ┆ JFK    ┆ BQN  │\n",
            "│ DL      ┆ Delta Air Lines Inc.   ┆ 461    ┆ LGA    ┆ ATL  │\n",
            "│ …       ┆ …                      ┆ …      ┆ …      ┆ …    │\n",
            "│ B6      ┆ JetBlue Airways        ┆ 1806   ┆ JFK    ┆ BOS  │\n",
            "│ UA      ┆ United Air Lines Inc.  ┆ 1187   ┆ EWR    ┆ LAS  │\n",
            "│ B6      ┆ JetBlue Airways        ┆ 371    ┆ LGA    ┆ FLL  │\n",
            "│ MQ      ┆ Envoy Air              ┆ 4650   ┆ LGA    ┆ ATL  │\n",
            "│ B6      ┆ JetBlue Airways        ┆ 343    ┆ EWR    ┆ PBI  │\n",
            "└─────────┴────────────────────────┴────────┴────────┴──────┘\n"
          ]
        }
      ],
      "source": [
        "# Write your SQL query here\n",
        "result = ctx.execute(\"\"\"\n",
        "    SELECT\n",
        "        f.carrier,\n",
        "        a.name AS airline_name,\n",
        "        f.flight,\n",
        "        f.origin,\n",
        "        f.dest\n",
        "    FROM flights AS f\n",
        "    JOIN airlines AS a\n",
        "        ON f.carrier = a.carrier\n",
        "    LIMIT 20\n",
        "\"\"\")\n",
        "\n",
        "print(result)"
      ]
    },
    {
      "cell_type": "markdown",
      "metadata": {
        "id": "Izd7CLTWPZCz"
      },
      "source": [
        "### 3.2 Find the average age of planes for each carrier\n",
        "\n",
        "Hint: The planes table has a `year` column for manufacture year. Calculate age based on 2013."
      ]
    },
    {
      "cell_type": "code",
      "execution_count": 26,
      "metadata": {
        "colab": {
          "base_uri": "https://localhost:8080/"
        },
        "id": "Vka_eItIPZCz",
        "outputId": "72659319-55d8-47e9-c7ca-d432cea4ad1e"
      },
      "outputs": [
        {
          "output_type": "stream",
          "name": "stdout",
          "text": [
            "shape: (16, 2)\n",
            "┌─────────┬───────────────┐\n",
            "│ carrier ┆ avg_plane_age │\n",
            "│ ---     ┆ ---           │\n",
            "│ str     ┆ f64           │\n",
            "╞═════════╪═══════════════╡\n",
            "│ MQ      ┆ 35.319        │\n",
            "│ AA      ┆ 25.869426     │\n",
            "│ DL      ┆ 16.372169     │\n",
            "│ UA      ┆ 13.207691     │\n",
            "│ FL      ┆ 11.385829     │\n",
            "│ …       ┆ …             │\n",
            "│ B6      ┆ 6.686702      │\n",
            "│ F9      ┆ 4.87874       │\n",
            "│ VX      ┆ 4.473643      │\n",
            "│ AS      ┆ 3.33662       │\n",
            "│ HA      ┆ 1.548387      │\n",
            "└─────────┴───────────────┘\n"
          ]
        }
      ],
      "source": [
        "# Write your SQL query here\n",
        "result = ctx.execute(\"\"\"\n",
        "    SELECT\n",
        "        f.carrier,\n",
        "        AVG(2013 - p.year) AS avg_plane_age\n",
        "    FROM flights AS f\n",
        "    JOIN planes AS p\n",
        "        ON f.tailnum = p.tailnum\n",
        "    GROUP BY f.carrier\n",
        "    ORDER BY avg_plane_age DESC\n",
        "\"\"\")\n",
        "\n",
        "print(result)"
      ]
    },
    {
      "cell_type": "markdown",
      "metadata": {
        "id": "Bhn9kTVGPZCz"
      },
      "source": [
        "### 3.3 Find flights that experienced both departure delays and bad weather\n",
        "\n",
        "Join flights with weather data and find flights where departure delay > 30 minutes and either wind_speed > 20 or precip > 0.1"
      ]
    },
    {
      "cell_type": "code",
      "execution_count": 27,
      "metadata": {
        "colab": {
          "base_uri": "https://localhost:8080/"
        },
        "id": "DooWB82EPZCz",
        "outputId": "99c2633e-8d77-43d7-d25d-18caa8edb79b"
      },
      "outputs": [
        {
          "output_type": "stream",
          "name": "stdout",
          "text": [
            "shape: (4_938, 7)\n",
            "┌─────────┬────────┬────────┬──────┬───────────┬────────────┬────────┐\n",
            "│ carrier ┆ flight ┆ origin ┆ dest ┆ dep_delay ┆ wind_speed ┆ precip │\n",
            "│ ---     ┆ ---    ┆ ---    ┆ ---  ┆ ---       ┆ ---        ┆ ---    │\n",
            "│ str     ┆ i64    ┆ str    ┆ str  ┆ i64       ┆ f64        ┆ f64    │\n",
            "╞═════════╪════════╪════════╪══════╪═══════════╪════════════╪════════╡\n",
            "│ B6      ┆ 21     ┆ JFK    ┆ TPA  ┆ 47        ┆ 21.86482   ┆ 0.0    │\n",
            "│ B6      ┆ 199    ┆ JFK    ┆ LAS  ┆ 116       ┆ 21.86482   ┆ 0.0    │\n",
            "│ EV      ┆ 4090   ┆ EWR    ┆ JAX  ┆ 39        ┆ 20.71404   ┆ 0.0    │\n",
            "│ EV      ┆ 4231   ┆ EWR    ┆ IAD  ┆ 40        ┆ 24.16638   ┆ 0.0    │\n",
            "│ B6      ┆ 1010   ┆ JFK    ┆ BOS  ┆ 33        ┆ 20.71404   ┆ 0.0    │\n",
            "│ …       ┆ …      ┆ …      ┆ …    ┆ …         ┆ …          ┆ …      │\n",
            "│ DL      ┆ 2347   ┆ LGA    ┆ ATL  ┆ 41        ┆ 20.71404   ┆ 0.0    │\n",
            "│ EV      ┆ 5503   ┆ LGA    ┆ PIT  ┆ 97        ┆ 20.71404   ┆ 0.0    │\n",
            "│ B6      ┆ 135    ┆ JFK    ┆ PHX  ┆ 42        ┆ 21.86482   ┆ 0.0    │\n",
            "│ UA      ┆ 797    ┆ JFK    ┆ LAX  ┆ 46        ┆ 21.86482   ┆ 0.0    │\n",
            "│ DL      ┆ 985    ┆ JFK    ┆ BOS  ┆ 45        ┆ 21.86482   ┆ 0.0    │\n",
            "└─────────┴────────┴────────┴──────┴───────────┴────────────┴────────┘\n"
          ]
        }
      ],
      "source": [
        "# First, explore the weather table structure\n",
        "result = ctx.execute(\"\"\"\n",
        "    SELECT *\n",
        "    FROM weather\n",
        "    LIMIT 5\n",
        "\"\"\")\n",
        "\n",
        "# Now write your join query\n",
        "result = ctx.execute(\"\"\"\n",
        "    SELECT\n",
        "        f.carrier,\n",
        "        f.flight,\n",
        "        f.origin,\n",
        "        f.dest,\n",
        "        f.dep_delay,\n",
        "        w.wind_speed,\n",
        "        w.precip\n",
        "    FROM flights AS f\n",
        "    JOIN weather AS w\n",
        "        ON f.origin = w.origin\n",
        "        AND f.time_hour = w.time_hour\n",
        "    WHERE f.dep_delay > 30\n",
        "      AND (w.wind_speed > 20 OR w.precip > 0.1)\n",
        "\"\"\")\n",
        "\n",
        "print(result)"
      ]
    },
    {
      "cell_type": "markdown",
      "metadata": {
        "id": "ptcoYBpaPZC0"
      },
      "source": [
        "## Exercise 4: Advanced Queries\n",
        "\n",
        "### 4.1 Find the most popular aircraft types (by number of flights)\n",
        "\n",
        "Join flights with planes to get manufacturer and model information. Show top 10."
      ]
    },
    {
      "cell_type": "code",
      "execution_count": 28,
      "metadata": {
        "colab": {
          "base_uri": "https://localhost:8080/"
        },
        "id": "aJlYCHo8PZC0",
        "outputId": "6b73f7fa-2e70-4757-cdc0-1cab2e0f8eec"
      },
      "outputs": [
        {
          "output_type": "stream",
          "name": "stdout",
          "text": [
            "shape: (10, 3)\n",
            "┌───────────────────────────────┬─────────────────┬─────────────┐\n",
            "│ manufacturer                  ┆ model           ┆ num_flights │\n",
            "│ ---                           ┆ ---             ┆ ---         │\n",
            "│ str                           ┆ str             ┆ u32         │\n",
            "╞═══════════════════════════════╪═════════════════╪═════════════╡\n",
            "│ AIRBUS                        ┆ A320-232        ┆ 31278       │\n",
            "│ EMBRAER                       ┆ EMB-145LR       ┆ 28027       │\n",
            "│ EMBRAER                       ┆ ERJ 190-100 IGW ┆ 23716       │\n",
            "│ AIRBUS INDUSTRIE              ┆ A320-232        ┆ 14553       │\n",
            "│ EMBRAER                       ┆ EMB-145XR       ┆ 14051       │\n",
            "│ BOEING                        ┆ 737-824         ┆ 13809       │\n",
            "│ BOMBARDIER INC                ┆ CL-600-2D24     ┆ 11807       │\n",
            "│ BOEING                        ┆ 737-7H4         ┆ 10389       │\n",
            "│ BOEING                        ┆ 757-222         ┆ 9150        │\n",
            "│ MCDONNELL DOUGLAS AIRCRAFT CO ┆ MD-88           ┆ 8932        │\n",
            "└───────────────────────────────┴─────────────────┴─────────────┘\n"
          ]
        }
      ],
      "source": [
        "# Write your SQL query here\n",
        "result = ctx.execute(\"\"\"\n",
        "    SELECT\n",
        "        p.manufacturer,\n",
        "        p.model,\n",
        "        COUNT(*) AS num_flights\n",
        "    FROM flights AS f\n",
        "    JOIN planes AS p\n",
        "        ON f.tailnum = p.tailnum\n",
        "    GROUP BY p.manufacturer, p.model\n",
        "    ORDER BY num_flights DESC\n",
        "    LIMIT 10\n",
        "\"\"\")\n",
        "\n",
        "print(result)"
      ]
    },
    {
      "cell_type": "markdown",
      "metadata": {
        "id": "ZUp6hWkBPZC0"
      },
      "source": [
        "### 4.2 Analyze route performance\n",
        "\n",
        "Find the top 10 routes (origin-destination pairs) with:\n",
        "- Total number of flights\n",
        "- Average departure delay\n",
        "- Percentage of flights delayed more than 30 minutes\n",
        "\n",
        "Include airport names, not just codes."
      ]
    },
    {
      "cell_type": "code",
      "execution_count": 29,
      "metadata": {
        "colab": {
          "base_uri": "https://localhost:8080/"
        },
        "id": "RWc7tfpCPZC0",
        "outputId": "5bcb044a-de41-45cc-b6e6-cd4b9b499259"
      },
      "outputs": [
        {
          "output_type": "stream",
          "name": "stdout",
          "text": [
            "shape: (10, 7)\n",
            "┌────────┬────────────────┬──────┬────────────────┬───────────────┬───────────────┬────────────────┐\n",
            "│ origin ┆ origin_name    ┆ dest ┆ dest_name      ┆ total_flights ┆ avg_dep_delay ┆ pct_delayed_ov │\n",
            "│ ---    ┆ ---            ┆ ---  ┆ ---            ┆ ---           ┆ ---           ┆ er_30          │\n",
            "│ str    ┆ str            ┆ str  ┆ str            ┆ u32           ┆ f64           ┆ ---            │\n",
            "│        ┆                ┆      ┆                ┆               ┆               ┆ f64            │\n",
            "╞════════╪════════════════╪══════╪════════════════╪═══════════════╪═══════════════╪════════════════╡\n",
            "│ JFK    ┆ John F Kennedy ┆ LAX  ┆ Los Angeles    ┆ 11196         ┆ 8.522508      ┆ 0.098875       │\n",
            "│        ┆ Intl           ┆      ┆ Intl           ┆               ┆               ┆                │\n",
            "│ LGA    ┆ La Guardia     ┆ ATL  ┆ Hartsfield     ┆ 10082         ┆ 11.448621     ┆ 0.124678       │\n",
            "│        ┆                ┆      ┆ Jackson        ┆               ┆               ┆                │\n",
            "│        ┆                ┆      ┆ Atlanta Int…   ┆               ┆               ┆                │\n",
            "│ LGA    ┆ La Guardia     ┆ ORD  ┆ Chicago Ohare  ┆ 8548          ┆ 10.740758     ┆ 0.138278       │\n",
            "│        ┆                ┆      ┆ Intl           ┆               ┆               ┆                │\n",
            "│ JFK    ┆ John F Kennedy ┆ SFO  ┆ San Francisco  ┆ 8138          ┆ 11.952691     ┆ 0.122143       │\n",
            "│        ┆ Intl           ┆      ┆ Intl           ┆               ┆               ┆                │\n",
            "│ LGA    ┆ La Guardia     ┆ CLT  ┆ Charlotte      ┆ 5969          ┆ 8.965321      ┆ 0.123471       │\n",
            "│        ┆                ┆      ┆ Douglas Intl   ┆               ┆               ┆                │\n",
            "│ EWR    ┆ Newark Liberty ┆ ORD  ┆ Chicago Ohare  ┆ 5851          ┆ 14.644163     ┆ 0.166809       │\n",
            "│        ┆ Intl           ┆      ┆ Intl           ┆               ┆               ┆                │\n",
            "│ JFK    ┆ John F Kennedy ┆ BOS  ┆ General Edward ┆ 5786          ┆ 11.694953     ┆ 0.140339       │\n",
            "│        ┆ Intl           ┆      ┆ Lawrence Logan ┆               ┆               ┆                │\n",
            "│        ┆                ┆      ┆ …              ┆               ┆               ┆                │\n",
            "│ LGA    ┆ La Guardia     ┆ MIA  ┆ Miami Intl     ┆ 5725          ┆ 7.361747      ┆ 0.095546       │\n",
            "│ JFK    ┆ John F Kennedy ┆ MCO  ┆ Orlando Intl   ┆ 5434          ┆ 10.601583     ┆ 0.127898       │\n",
            "│        ┆ Intl           ┆      ┆                ┆               ┆               ┆                │\n",
            "│ EWR    ┆ Newark Liberty ┆ BOS  ┆ General Edward ┆ 5251          ┆ 12.54561      ┆ 0.151209       │\n",
            "│        ┆ Intl           ┆      ┆ Lawrence Logan ┆               ┆               ┆                │\n",
            "│        ┆                ┆      ┆ …              ┆               ┆               ┆                │\n",
            "└────────┴────────────────┴──────┴────────────────┴───────────────┴───────────────┴────────────────┘\n"
          ]
        }
      ],
      "source": [
        "# Write your SQL query here\n",
        "\n",
        "### rename to join\n",
        "airports_origin = airports.select([\n",
        "    pl.col(\"faa\").alias(\"origin_faa\"),\n",
        "    pl.col(\"name\").alias(\"origin_name\")\n",
        "])\n",
        "\n",
        "airports_dest = airports.select([\n",
        "    pl.col(\"faa\").alias(\"dest_faa\"),\n",
        "    pl.col(\"name\").alias(\"dest_name\")\n",
        "])\n",
        "\n",
        "### join\n",
        "ctx = pl.SQLContext(\n",
        "    airlines=airlines,\n",
        "    flights=flights,\n",
        "    airports_origin=airports_origin,\n",
        "    airports_dest=airports_dest,\n",
        "    planes=planes,\n",
        "    weather=weather,\n",
        "    eager=True\n",
        ")\n",
        "\n",
        "result = ctx.execute(\"\"\"\n",
        "    SELECT\n",
        "        f.origin,\n",
        "        ao.origin_name,\n",
        "        f.dest,\n",
        "        ad.dest_name,\n",
        "        COUNT(*) AS total_flights,\n",
        "        AVG(f.dep_delay) AS avg_dep_delay,\n",
        "        SUM(CASE WHEN f.dep_delay > 30 THEN 1 ELSE 0 END) * 1.0 / COUNT(*) AS pct_delayed_over_30\n",
        "    FROM flights AS f\n",
        "    JOIN airports_origin AS ao ON f.origin = ao.origin_faa\n",
        "    JOIN airports_dest AS ad ON f.dest = ad.dest_faa\n",
        "    WHERE f.dep_delay IS NOT NULL\n",
        "    GROUP BY f.origin, ao.origin_name, f.dest, ad.dest_name\n",
        "    ORDER BY total_flights DESC\n",
        "    LIMIT 10\n",
        "\"\"\")\n",
        "\n",
        "print(result)"
      ]
    },
    {
      "cell_type": "markdown",
      "metadata": {
        "id": "xwLRTx9FPZC0"
      },
      "source": [
        "## Bonus: Compare with Polars\n",
        "\n",
        "### Choose one of the queries above and implement it using Polars\n",
        "\n",
        "This will help you understand the relationship between SQL and Polars operations."
      ]
    },
    {
      "cell_type": "code",
      "execution_count": 22,
      "metadata": {
        "colab": {
          "base_uri": "https://localhost:8080/"
        },
        "id": "X4KxgRnePZC0",
        "outputId": "54af4523-39b7-43ca-a525-54e41d659296"
      },
      "outputs": [
        {
          "output_type": "stream",
          "name": "stdout",
          "text": [
            "SQL Result:\n",
            "shape: (3, 2)\n",
            "┌────────┬───────────┐\n",
            "│ origin ┆ avg_delay │\n",
            "│ ---    ┆ ---       │\n",
            "│ str    ┆ f64       │\n",
            "╞════════╪═══════════╡\n",
            "│ EWR    ┆ 15.107954 │\n",
            "│ JFK    ┆ 12.112159 │\n",
            "│ LGA    ┆ 10.346876 │\n",
            "└────────┴───────────┘\n",
            "\n",
            "Polars Result:\n",
            "shape: (3, 2)\n",
            "┌────────┬───────────┐\n",
            "│ origin ┆ avg_delay │\n",
            "│ ---    ┆ ---       │\n",
            "│ str    ┆ f64       │\n",
            "╞════════╪═══════════╡\n",
            "│ EWR    ┆ 15.107954 │\n",
            "│ JFK    ┆ 12.112159 │\n",
            "│ LGA    ┆ 10.346876 │\n",
            "└────────┴───────────┘\n"
          ]
        }
      ],
      "source": [
        "# Example: Let's implement Exercise 2.1 (average delay by origin) in Polars\n",
        "\n",
        "# SQL version (for reference)\n",
        "sql_result = ctx.execute(\"\"\"\n",
        "    SELECT\n",
        "        origin,\n",
        "        AVG(dep_delay) as avg_delay\n",
        "    FROM flights\n",
        "    WHERE dep_delay IS NOT NULL\n",
        "    GROUP BY origin\n",
        "    ORDER BY avg_delay DESC\n",
        "\"\"\")\n",
        "\n",
        "# Polars version\n",
        "polars_result = (\n",
        "    flights\n",
        "    .filter(pl.col('dep_delay').is_not_null())\n",
        "    .group_by('origin')\n",
        "    .agg(pl.col('dep_delay').mean().alias('avg_delay'))\n",
        "    .sort('avg_delay', descending=True)\n",
        ")\n",
        "\n",
        "print(\"SQL Result:\")\n",
        "print(sql_result)\n",
        "print(\"\\nPolars Result:\")\n",
        "print(polars_result)"
      ]
    },
    {
      "cell_type": "code",
      "source": [
        "# Now implement one of your own queries in Polars below:\n",
        "\n",
        "##SQL avg dep delay\n",
        "avg_dep_delay = ctx.execute(\"\"\"\n",
        "SELECT origin, AVG(dep_delay) AS avg_dep_delay\n",
        "FROM flights\n",
        "GROUP BY origin\n",
        "ORDER BY avg_dep_delay DESC\n",
        "\"\"\")\n",
        "\n",
        "print(\"SQL Result:\")\n",
        "print(avg_dep_delay)\n",
        "\n",
        "##POLARS avg dep delay\n",
        "\n",
        "avg_dep_delay_polars = (\n",
        "    flights\n",
        "    .group_by(\"origin\")\n",
        "    .agg(pl.col(\"dep_delay\").mean().alias(\"avg_dep_delay\"))\n",
        "    .sort(\"avg_dep_delay\", descending=True)\n",
        ")\n",
        "\n",
        "print(\"\\nPolars Result:\")\n",
        "print(avg_dep_delay_polars)"
      ],
      "metadata": {
        "colab": {
          "base_uri": "https://localhost:8080/"
        },
        "id": "3DE5q4MGG8K1",
        "outputId": "7dc27f6e-4493-4fbf-b255-4461af2ce1c4"
      },
      "execution_count": 26,
      "outputs": [
        {
          "output_type": "stream",
          "name": "stdout",
          "text": [
            "SQL Result:\n",
            "shape: (3, 2)\n",
            "┌────────┬───────────────┐\n",
            "│ origin ┆ avg_dep_delay │\n",
            "│ ---    ┆ ---           │\n",
            "│ str    ┆ f64           │\n",
            "╞════════╪═══════════════╡\n",
            "│ EWR    ┆ 15.107954     │\n",
            "│ JFK    ┆ 12.112159     │\n",
            "│ LGA    ┆ 10.346876     │\n",
            "└────────┴───────────────┘\n",
            "\n",
            "Polars Result:\n",
            "shape: (3, 2)\n",
            "┌────────┬───────────────┐\n",
            "│ origin ┆ avg_dep_delay │\n",
            "│ ---    ┆ ---           │\n",
            "│ str    ┆ f64           │\n",
            "╞════════╪═══════════════╡\n",
            "│ EWR    ┆ 15.107954     │\n",
            "│ JFK    ┆ 12.112159     │\n",
            "│ LGA    ┆ 10.346876     │\n",
            "└────────┴───────────────┘\n"
          ]
        }
      ]
    }
  ],
  "metadata": {
    "kernelspec": {
      "display_name": "Python 3",
      "language": "python",
      "name": "python3"
    },
    "language_info": {
      "codemirror_mode": {
        "name": "ipython",
        "version": 3
      },
      "file_extension": ".py",
      "mimetype": "text/x-python",
      "name": "python",
      "nbconvert_exporter": "python",
      "pygments_lexer": "ipython3",
      "version": "3.8.0"
    },
    "colab": {
      "provenance": []
    }
  },
  "nbformat": 4,
  "nbformat_minor": 0
}